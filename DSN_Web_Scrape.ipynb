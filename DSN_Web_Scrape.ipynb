{
 "cells": [
  {
   "cell_type": "code",
   "execution_count": null,
   "metadata": {},
   "outputs": [],
   "source": [
    "import xml.etree.ElementTree as ET\n",
    "import json, requests, time\n",
    "from copy import copy\n",
    "import pandas as pd\n",
    "\n",
    "def make_data(things,c=0):\n",
    "    key_file = {}\n",
    "    # set to 1 to wipe the file and write headers for the first pass\n",
    "    for data_field in things:\n",
    "        if 'station' in data_field:\n",
    "            key_file = data_field['station']\n",
    "        if 'dish' not in data_field:\n",
    "            continue\n",
    "        data_field['dish']['station'] = key_file['name']\n",
    "        data_field['dish']['friendlyName'] = key_file['friendlyName']\n",
    "        data_field['dish']['timeUTC'] = key_file['timeUTC']\n",
    "        data_field['dish']['timeZoneOffset'] = key_file['timeZoneOffset']\n",
    "        new_df = pd.DataFrame([data_field['dish']])\n",
    "        new_df['_text'] = data_field['dish']['upSignal'][0]['spacecraft']\n",
    "        ds_df = pd.DataFrame(data_field['dish']['downSignal'])\n",
    "        us_df = pd.DataFrame(data_field['dish']['upSignal'])\n",
    "        ts_df = pd.DataFrame(data_field['dish']['target'])\n",
    "        new_df2 = pd.merge(new_df, ds_df, how='left', left_on='_text', right_on='spacecraft')\n",
    "        new_df3 = pd.merge(new_df2, us_df, how='left', left_on='_text', right_on='spacecraft')\n",
    "        new_df4 = pd.merge(new_df3, ts_df, how='left', left_on='_text', right_on='name')\n",
    "        if(c == 1):\n",
    "            with open('sample.csv', 'w+') as f:\n",
    "                new_df4.to_csv(f,index=False, header=True)\n",
    "            c = 0\n",
    "        else:\n",
    "            with open('sample.csv', 'a+') as f:\n",
    "                new_df4.to_csv(f,index=False, header=False)\n",
    "\n",
    "def dictify(r,root=True): # https://stackoverflow.com/questions/2148119/how-to-convert-an-xml-string-to-a-dictionary-in-python/30923963#30923963\n",
    "    if root:\n",
    "        return {r.tag : dictify(r, False)}\n",
    "    d=copy(r.attrib)\n",
    "    if r.text:\n",
    "        d[\"_text\"]=r.text\n",
    "    for x in r.findall(\"./*\"):\n",
    "        if x.tag not in d:\n",
    "            d[x.tag]=[]\n",
    "        d[x.tag].append(dictify(x,False))\n",
    "    return d"
   ]
  },
  {
   "cell_type": "code",
   "execution_count": null,
   "metadata": {},
   "outputs": [],
   "source": [
    "\n",
    "N = 1365107113\n",
    "#Fresh start of the program use c = 1, restarting the program use c = 0 if the file already exists with headers\n",
    "c = 1\n",
    "while(True):\n",
    "    time.sleep(3)\n",
    "    N += 5\n",
    "    url   = \"https://eyes.nasa.gov/dsn/data/\" + str(N) + \".xml\"\n",
    "    try:\n",
    "        print('INFO - Downloading Data',N)\n",
    "        r = requests.get(url)\n",
    "        if(r.status_code==200):\n",
    "            print('INFO - Downloaded Data Successfully',N)\n",
    "            text = r.text\n",
    "            a = ET.fromstring(text)\n",
    "            things = [dictify(x) for x in a]\n",
    "            make_data(things,c)\n",
    "            c = 0\n",
    "        else:\n",
    "            raise Exception(r.status_code)\n",
    "    except Exception as e:\n",
    "        print('ERROR',e,N)"
   ]
  },
  {
   "cell_type": "code",
   "execution_count": null,
   "metadata": {},
   "outputs": [],
   "source": []
  },
  {
   "cell_type": "code",
   "execution_count": null,
   "metadata": {},
   "outputs": [],
   "source": []
  }
 ],
 "metadata": {
  "kernelspec": {
   "display_name": "Python 3",
   "language": "python",
   "name": "python3"
  },
  "language_info": {
   "codemirror_mode": {
    "name": "ipython",
    "version": 3
   },
   "file_extension": ".py",
   "mimetype": "text/x-python",
   "name": "python",
   "nbconvert_exporter": "python",
   "pygments_lexer": "ipython3",
   "version": "3.6.5"
  }
 },
 "nbformat": 4,
 "nbformat_minor": 2
}

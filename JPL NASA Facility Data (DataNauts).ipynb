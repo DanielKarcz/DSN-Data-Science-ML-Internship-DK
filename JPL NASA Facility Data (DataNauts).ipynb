{
 "cells": [
  {
   "cell_type": "code",
   "execution_count": 1,
   "metadata": {},
   "outputs": [],
   "source": [
    "import pandas as pd\n"
   ]
  },
  {
   "cell_type": "code",
   "execution_count": 2,
   "metadata": {},
   "outputs": [],
   "source": [
    "facility_data = pd.read_csv('JPL_Facilities.csv')"
   ]
  },
  {
   "cell_type": "code",
   "execution_count": 3,
   "metadata": {},
   "outputs": [
    {
     "data": {
      "text/html": [
       "<div>\n",
       "<style scoped>\n",
       "    .dataframe tbody tr th:only-of-type {\n",
       "        vertical-align: middle;\n",
       "    }\n",
       "\n",
       "    .dataframe tbody tr th {\n",
       "        vertical-align: top;\n",
       "    }\n",
       "\n",
       "    .dataframe thead th {\n",
       "        text-align: right;\n",
       "    }\n",
       "</style>\n",
       "<table border=\"1\" class=\"dataframe\">\n",
       "  <thead>\n",
       "    <tr style=\"text-align: right;\">\n",
       "      <th></th>\n",
       "      <th>Center</th>\n",
       "      <th>Center Search Status</th>\n",
       "      <th>Facility</th>\n",
       "      <th>FacilityURL</th>\n",
       "      <th>Occupied</th>\n",
       "      <th>Status</th>\n",
       "      <th>URL Link</th>\n",
       "      <th>Record Date</th>\n",
       "      <th>Last Update</th>\n",
       "      <th>Country</th>\n",
       "      <th>Contact</th>\n",
       "      <th>Phone</th>\n",
       "      <th>Location</th>\n",
       "      <th>City</th>\n",
       "      <th>State</th>\n",
       "      <th>Zipcode</th>\n",
       "    </tr>\n",
       "  </thead>\n",
       "  <tbody>\n",
       "    <tr>\n",
       "      <th>0</th>\n",
       "      <td>Stennis Space Center</td>\n",
       "      <td>Public</td>\n",
       "      <td>Test Stand A-2 #4122</td>\n",
       "      <td>NaN</td>\n",
       "      <td>01/01/1964 12:00:00 AM</td>\n",
       "      <td>Inactive</td>\n",
       "      <td>http://rockettest.nasa.gov</td>\n",
       "      <td>03/01/1996 12:00:00 AM</td>\n",
       "      <td>04/06/2015 12:00:00 AM</td>\n",
       "      <td>US</td>\n",
       "      <td>Robert Bruce</td>\n",
       "      <td>228-688-1646</td>\n",
       "      <td>39529-6000(30.385948, -89.604486)</td>\n",
       "      <td>Stennis Space Center</td>\n",
       "      <td>MS</td>\n",
       "      <td>39529-6000</td>\n",
       "    </tr>\n",
       "    <tr>\n",
       "      <th>1</th>\n",
       "      <td>Ames Research Center</td>\n",
       "      <td>Public</td>\n",
       "      <td>N229 - EXPER. AEROTHERMODYNAMIC FAC.: ELECTRIC...</td>\n",
       "      <td>NaN</td>\n",
       "      <td>01/01/1961 12:00:00 AM</td>\n",
       "      <td>Active</td>\n",
       "      <td>http://thermo-physics.arc.nasa.gov</td>\n",
       "      <td>03/01/1996 12:00:00 AM</td>\n",
       "      <td>06/13/2014 12:00:00 AM</td>\n",
       "      <td>US</td>\n",
       "      <td>Rocci Caringello</td>\n",
       "      <td>650 603-9506</td>\n",
       "      <td>94035(37.41412, -122.052585)</td>\n",
       "      <td>Moffett Field</td>\n",
       "      <td>CA</td>\n",
       "      <td>94035</td>\n",
       "    </tr>\n",
       "    <tr>\n",
       "      <th>2</th>\n",
       "      <td>Goddard Space Flight Center</td>\n",
       "      <td>Public</td>\n",
       "      <td>500 WSC: Antenna, 10m S-band</td>\n",
       "      <td>NaN</td>\n",
       "      <td>01/01/1977 12:00:00 AM</td>\n",
       "      <td>Active</td>\n",
       "      <td>NaN</td>\n",
       "      <td>03/01/1996 12:00:00 AM</td>\n",
       "      <td>08/15/2013 12:00:00 AM</td>\n",
       "      <td>US</td>\n",
       "      <td>Barry Green</td>\n",
       "      <td>301 286 2520</td>\n",
       "      <td>20771(38.99538, -76.853161)</td>\n",
       "      <td>Greenbelt</td>\n",
       "      <td>MD</td>\n",
       "      <td>20771</td>\n",
       "    </tr>\n",
       "    <tr>\n",
       "      <th>3</th>\n",
       "      <td>Glenn Research Center</td>\n",
       "      <td>Public</td>\n",
       "      <td>Vacuum Facility 11 (VF-11) Bldg. 16</td>\n",
       "      <td>NaN</td>\n",
       "      <td>NaN</td>\n",
       "      <td>Active</td>\n",
       "      <td>http://facilities.grc.nasa.gov/epl/index.html</td>\n",
       "      <td>07/15/2010 12:00:00 AM</td>\n",
       "      <td>03/04/2015 12:00:00 AM</td>\n",
       "      <td>US</td>\n",
       "      <td>Linda C. Elonen-Wright</td>\n",
       "      <td>216-433-9370</td>\n",
       "      <td>44135(41.430364, -81.808561)</td>\n",
       "      <td>Cleveland</td>\n",
       "      <td>OH</td>\n",
       "      <td>44135</td>\n",
       "    </tr>\n",
       "    <tr>\n",
       "      <th>4</th>\n",
       "      <td>Marshall Space Flight Center</td>\n",
       "      <td>Public</td>\n",
       "      <td>Materials Testing &amp; Research Facility 4464</td>\n",
       "      <td>NaN</td>\n",
       "      <td>NaN</td>\n",
       "      <td>Active</td>\n",
       "      <td>NaN</td>\n",
       "      <td>03/08/2007 12:00:00 AM</td>\n",
       "      <td>03/31/2014 12:00:00 AM</td>\n",
       "      <td>US</td>\n",
       "      <td>Pam Caruso</td>\n",
       "      <td>256-544-7795</td>\n",
       "      <td>35812(34.729538, -86.585283)</td>\n",
       "      <td>Huntsville</td>\n",
       "      <td>AL</td>\n",
       "      <td>35812</td>\n",
       "    </tr>\n",
       "  </tbody>\n",
       "</table>\n",
       "</div>"
      ],
      "text/plain": [
       "                         Center Center Search Status  \\\n",
       "0          Stennis Space Center               Public   \n",
       "1          Ames Research Center               Public   \n",
       "2   Goddard Space Flight Center               Public   \n",
       "3         Glenn Research Center               Public   \n",
       "4  Marshall Space Flight Center               Public   \n",
       "\n",
       "                                            Facility  FacilityURL  \\\n",
       "0                               Test Stand A-2 #4122          NaN   \n",
       "1  N229 - EXPER. AEROTHERMODYNAMIC FAC.: ELECTRIC...          NaN   \n",
       "2                       500 WSC: Antenna, 10m S-band          NaN   \n",
       "3                Vacuum Facility 11 (VF-11) Bldg. 16          NaN   \n",
       "4         Materials Testing & Research Facility 4464          NaN   \n",
       "\n",
       "                 Occupied    Status  \\\n",
       "0  01/01/1964 12:00:00 AM  Inactive   \n",
       "1  01/01/1961 12:00:00 AM    Active   \n",
       "2  01/01/1977 12:00:00 AM    Active   \n",
       "3                     NaN    Active   \n",
       "4                     NaN    Active   \n",
       "\n",
       "                                        URL Link             Record Date  \\\n",
       "0                     http://rockettest.nasa.gov  03/01/1996 12:00:00 AM   \n",
       "1             http://thermo-physics.arc.nasa.gov  03/01/1996 12:00:00 AM   \n",
       "2                                            NaN  03/01/1996 12:00:00 AM   \n",
       "3  http://facilities.grc.nasa.gov/epl/index.html  07/15/2010 12:00:00 AM   \n",
       "4                                            NaN  03/08/2007 12:00:00 AM   \n",
       "\n",
       "              Last Update Country                 Contact         Phone  \\\n",
       "0  04/06/2015 12:00:00 AM      US            Robert Bruce  228-688-1646   \n",
       "1  06/13/2014 12:00:00 AM      US        Rocci Caringello  650 603-9506   \n",
       "2  08/15/2013 12:00:00 AM      US             Barry Green  301 286 2520   \n",
       "3  03/04/2015 12:00:00 AM      US  Linda C. Elonen-Wright  216-433-9370   \n",
       "4  03/31/2014 12:00:00 AM      US              Pam Caruso  256-544-7795   \n",
       "\n",
       "                            Location                  City State     Zipcode  \n",
       "0  39529-6000(30.385948, -89.604486)  Stennis Space Center    MS  39529-6000  \n",
       "1       94035(37.41412, -122.052585)         Moffett Field    CA       94035  \n",
       "2        20771(38.99538, -76.853161)             Greenbelt    MD       20771  \n",
       "3       44135(41.430364, -81.808561)             Cleveland    OH       44135  \n",
       "4       35812(34.729538, -86.585283)            Huntsville    AL       35812  "
      ]
     },
     "execution_count": 3,
     "metadata": {},
     "output_type": "execute_result"
    }
   ],
   "source": [
    "facility_data.head()"
   ]
  },
  {
   "cell_type": "code",
   "execution_count": 9,
   "metadata": {},
   "outputs": [
    {
     "data": {
      "text/plain": [
       "(485, 16)"
      ]
     },
     "execution_count": 9,
     "metadata": {},
     "output_type": "execute_result"
    }
   ],
   "source": [
    "facility_data.shape"
   ]
  },
  {
   "cell_type": "code",
   "execution_count": 8,
   "metadata": {},
   "outputs": [],
   "source": [
    "\n",
    "pd.set_option('display.max_rows', 20)\n"
   ]
  },
  {
   "cell_type": "code",
   "execution_count": 9,
   "metadata": {},
   "outputs": [
    {
     "data": {
      "text/plain": [
       "<bound method Series.unique of 0                  Stennis Space Center\n",
       "1                  Ames Research Center\n",
       "2           Goddard Space Flight Center\n",
       "3                 Glenn Research Center\n",
       "4          Marshall Space Flight Center\n",
       "5             Michoud Assembly Facility\n",
       "6                  Johnson Space Center\n",
       "7                  Kennedy Space Center\n",
       "8                  Kennedy Space Center\n",
       "9           Goddard Space Flight Center\n",
       "                     ...               \n",
       "475             Langley Research Center\n",
       "476        Marshall Space Flight Center\n",
       "477               Glenn Research Center\n",
       "478        Marshall Space Flight Center\n",
       "479                Kennedy Space Center\n",
       "480                Kennedy Space Center\n",
       "481        Wallops Flight Facility/GSFC\n",
       "482                Kennedy Space Center\n",
       "483             Langley Research Center\n",
       "484    Armstrong Flight Research Center\n",
       "Name: Center, Length: 485, dtype: object>"
      ]
     },
     "execution_count": 9,
     "metadata": {},
     "output_type": "execute_result"
    }
   ],
   "source": [
    "Nasa_unique_centers = facility_data.Center.unique\n",
    "\n",
    "Nasa_unique_centers"
   ]
  },
  {
   "cell_type": "code",
   "execution_count": 10,
   "metadata": {},
   "outputs": [
    {
     "data": {
      "text/plain": [
       "Index(['Center', 'Center Search Status', 'Facility', 'FacilityURL', 'Occupied',\n",
       "       'Status', 'URL Link', 'Record Date', 'Last Update', 'Country',\n",
       "       'Contact', 'Phone', 'Location', 'City', 'State', 'Zipcode'],\n",
       "      dtype='object')"
      ]
     },
     "execution_count": 10,
     "metadata": {},
     "output_type": "execute_result"
    }
   ],
   "source": [
    "facility_data.columns"
   ]
  },
  {
   "cell_type": "code",
   "execution_count": 13,
   "metadata": {},
   "outputs": [],
   "source": [
    "JPL_facilities = facility_data.loc[facility_data['Center'] == 'Jet Propulsion Lab']"
   ]
  },
  {
   "cell_type": "code",
   "execution_count": 15,
   "metadata": {},
   "outputs": [
    {
     "data": {
      "text/html": [
       "<div>\n",
       "<style scoped>\n",
       "    .dataframe tbody tr th:only-of-type {\n",
       "        vertical-align: middle;\n",
       "    }\n",
       "\n",
       "    .dataframe tbody tr th {\n",
       "        vertical-align: top;\n",
       "    }\n",
       "\n",
       "    .dataframe thead th {\n",
       "        text-align: right;\n",
       "    }\n",
       "</style>\n",
       "<table border=\"1\" class=\"dataframe\">\n",
       "  <thead>\n",
       "    <tr style=\"text-align: right;\">\n",
       "      <th></th>\n",
       "      <th>Center</th>\n",
       "      <th>Center Search Status</th>\n",
       "      <th>Facility</th>\n",
       "      <th>FacilityURL</th>\n",
       "      <th>Occupied</th>\n",
       "      <th>Status</th>\n",
       "      <th>URL Link</th>\n",
       "      <th>Record Date</th>\n",
       "      <th>Last Update</th>\n",
       "      <th>Country</th>\n",
       "      <th>Contact</th>\n",
       "      <th>Phone</th>\n",
       "      <th>Location</th>\n",
       "      <th>City</th>\n",
       "      <th>State</th>\n",
       "      <th>Zipcode</th>\n",
       "    </tr>\n",
       "  </thead>\n",
       "  <tbody>\n",
       "    <tr>\n",
       "      <th>10</th>\n",
       "      <td>Jet Propulsion Lab</td>\n",
       "      <td>Public</td>\n",
       "      <td>Mirror Refurbishment Building</td>\n",
       "      <td>NaN</td>\n",
       "      <td>01/01/1992 12:00:00 AM</td>\n",
       "      <td>Active</td>\n",
       "      <td>NaN</td>\n",
       "      <td>03/01/1996 12:00:00 AM</td>\n",
       "      <td>08/08/2013 12:00:00 AM</td>\n",
       "      <td>US</td>\n",
       "      <td>Gary Gray</td>\n",
       "      <td>818.354.0701</td>\n",
       "      <td>91109(34.178124, -118.150662)</td>\n",
       "      <td>PASADENA</td>\n",
       "      <td>CA</td>\n",
       "      <td>91109</td>\n",
       "    </tr>\n",
       "  </tbody>\n",
       "</table>\n",
       "</div>"
      ],
      "text/plain": [
       "                Center Center Search Status                       Facility  \\\n",
       "10  Jet Propulsion Lab               Public  Mirror Refurbishment Building   \n",
       "\n",
       "    FacilityURL                Occupied  Status URL Link  \\\n",
       "10          NaN  01/01/1992 12:00:00 AM  Active      NaN   \n",
       "\n",
       "               Record Date             Last Update Country    Contact  \\\n",
       "10  03/01/1996 12:00:00 AM  08/08/2013 12:00:00 AM      US  Gary Gray   \n",
       "\n",
       "           Phone                       Location      City State Zipcode  \n",
       "10  818.354.0701  91109(34.178124, -118.150662)  PASADENA    CA   91109  "
      ]
     },
     "execution_count": 15,
     "metadata": {},
     "output_type": "execute_result"
    }
   ],
   "source": [
    "JPL_facilities.head(1)"
   ]
  },
  {
   "cell_type": "code",
   "execution_count": 16,
   "metadata": {},
   "outputs": [],
   "source": [
    "JPL_facilities_subset = JPL_facilities[['Center', 'Facility', 'Occupied', 'Status', 'Record Date', 'Last Update', 'Location']]"
   ]
  },
  {
   "cell_type": "code",
   "execution_count": 19,
   "metadata": {},
   "outputs": [
    {
     "data": {
      "text/html": [
       "<div>\n",
       "<style scoped>\n",
       "    .dataframe tbody tr th:only-of-type {\n",
       "        vertical-align: middle;\n",
       "    }\n",
       "\n",
       "    .dataframe tbody tr th {\n",
       "        vertical-align: top;\n",
       "    }\n",
       "\n",
       "    .dataframe thead th {\n",
       "        text-align: right;\n",
       "    }\n",
       "</style>\n",
       "<table border=\"1\" class=\"dataframe\">\n",
       "  <thead>\n",
       "    <tr style=\"text-align: right;\">\n",
       "      <th></th>\n",
       "      <th>Center</th>\n",
       "      <th>Facility</th>\n",
       "      <th>Occupied</th>\n",
       "      <th>Status</th>\n",
       "      <th>Record Date</th>\n",
       "      <th>Last Update</th>\n",
       "      <th>Location</th>\n",
       "    </tr>\n",
       "  </thead>\n",
       "  <tbody>\n",
       "    <tr>\n",
       "      <th>10</th>\n",
       "      <td>Jet Propulsion Lab</td>\n",
       "      <td>Mirror Refurbishment Building</td>\n",
       "      <td>01/01/1992 12:00:00 AM</td>\n",
       "      <td>Active</td>\n",
       "      <td>03/01/1996 12:00:00 AM</td>\n",
       "      <td>08/08/2013 12:00:00 AM</td>\n",
       "      <td>91109(34.178124, -118.150662)</td>\n",
       "    </tr>\n",
       "    <tr>\n",
       "      <th>39</th>\n",
       "      <td>Jet Propulsion Lab</td>\n",
       "      <td>Space Flight Operations Facility</td>\n",
       "      <td>01/01/1964 12:00:00 AM</td>\n",
       "      <td>Active</td>\n",
       "      <td>03/01/1996 12:00:00 AM</td>\n",
       "      <td>08/08/2013 12:00:00 AM</td>\n",
       "      <td>91109(34.178124, -118.150662)</td>\n",
       "    </tr>\n",
       "  </tbody>\n",
       "</table>\n",
       "</div>"
      ],
      "text/plain": [
       "                Center                          Facility  \\\n",
       "10  Jet Propulsion Lab     Mirror Refurbishment Building   \n",
       "39  Jet Propulsion Lab  Space Flight Operations Facility   \n",
       "\n",
       "                  Occupied  Status             Record Date  \\\n",
       "10  01/01/1992 12:00:00 AM  Active  03/01/1996 12:00:00 AM   \n",
       "39  01/01/1964 12:00:00 AM  Active  03/01/1996 12:00:00 AM   \n",
       "\n",
       "               Last Update                       Location  \n",
       "10  08/08/2013 12:00:00 AM  91109(34.178124, -118.150662)  \n",
       "39  08/08/2013 12:00:00 AM  91109(34.178124, -118.150662)  "
      ]
     },
     "execution_count": 19,
     "metadata": {},
     "output_type": "execute_result"
    }
   ],
   "source": [
    "JPL_facilities_subset.head(2) # 'Location' feature provides coordinates of 'Facility'"
   ]
  }
 ],
 "metadata": {
  "kernelspec": {
   "display_name": "Python 3",
   "language": "python",
   "name": "python3"
  },
  "language_info": {
   "codemirror_mode": {
    "name": "ipython",
    "version": 3
   },
   "file_extension": ".py",
   "mimetype": "text/x-python",
   "name": "python",
   "nbconvert_exporter": "python",
   "pygments_lexer": "ipython3",
   "version": "3.7.3"
  }
 },
 "nbformat": 4,
 "nbformat_minor": 2
}
